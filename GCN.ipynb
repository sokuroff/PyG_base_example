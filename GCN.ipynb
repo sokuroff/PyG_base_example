{
 "cells": [
  {
   "cell_type": "markdown",
   "metadata": {},
   "source": [
    "# Подготовительный этап\n",
    "\n",
    "Установка торча, и PyG. "
   ]
  },
  {
   "cell_type": "code",
   "execution_count": null,
   "metadata": {},
   "outputs": [
    {
     "name": "stdout",
     "output_type": "stream",
     "text": [
      "2.5.1+cpu\n"
     ]
    }
   ],
   "source": [
    "import torch\n",
    "\n",
    "print(torch.__version__)"
   ]
  },
  {
   "cell_type": "code",
   "execution_count": 6,
   "metadata": {},
   "outputs": [
    {
     "name": "stdout",
     "output_type": "stream",
     "text": [
      "Collecting torch_geometricNote: you may need to restart the kernel to use updated packages.\n",
      "\n",
      "  Downloading torch_geometric-2.6.1-py3-none-any.whl.metadata (63 kB)\n",
      "Requirement already satisfied: aiohttp in c:\\users\\ruslan\\anaconda3\\lib\\site-packages (from torch_geometric) (3.10.5)\n",
      "Requirement already satisfied: fsspec in c:\\users\\ruslan\\anaconda3\\lib\\site-packages (from torch_geometric) (2024.6.1)\n",
      "Requirement already satisfied: jinja2 in c:\\users\\ruslan\\anaconda3\\lib\\site-packages (from torch_geometric) (3.1.4)\n",
      "Requirement already satisfied: numpy in c:\\users\\ruslan\\anaconda3\\lib\\site-packages (from torch_geometric) (1.26.4)\n",
      "Requirement already satisfied: psutil>=5.8.0 in c:\\users\\ruslan\\appdata\\roaming\\python\\python312\\site-packages (from torch_geometric) (5.9.8)\n",
      "Requirement already satisfied: pyparsing in c:\\users\\ruslan\\anaconda3\\lib\\site-packages (from torch_geometric) (3.1.2)\n",
      "Requirement already satisfied: requests in c:\\users\\ruslan\\anaconda3\\lib\\site-packages (from torch_geometric) (2.32.3)\n",
      "Requirement already satisfied: tqdm in c:\\users\\ruslan\\anaconda3\\lib\\site-packages (from torch_geometric) (4.66.5)\n",
      "Requirement already satisfied: aiohappyeyeballs>=2.3.0 in c:\\users\\ruslan\\anaconda3\\lib\\site-packages (from aiohttp->torch_geometric) (2.4.0)\n",
      "Requirement already satisfied: aiosignal>=1.1.2 in c:\\users\\ruslan\\anaconda3\\lib\\site-packages (from aiohttp->torch_geometric) (1.2.0)\n",
      "Requirement already satisfied: attrs>=17.3.0 in c:\\users\\ruslan\\anaconda3\\lib\\site-packages (from aiohttp->torch_geometric) (23.1.0)\n",
      "Requirement already satisfied: frozenlist>=1.1.1 in c:\\users\\ruslan\\anaconda3\\lib\\site-packages (from aiohttp->torch_geometric) (1.4.0)\n",
      "Requirement already satisfied: multidict<7.0,>=4.5 in c:\\users\\ruslan\\anaconda3\\lib\\site-packages (from aiohttp->torch_geometric) (6.0.4)\n",
      "Requirement already satisfied: yarl<2.0,>=1.0 in c:\\users\\ruslan\\anaconda3\\lib\\site-packages (from aiohttp->torch_geometric) (1.11.0)\n",
      "Requirement already satisfied: MarkupSafe>=2.0 in c:\\users\\ruslan\\anaconda3\\lib\\site-packages (from jinja2->torch_geometric) (2.1.3)\n",
      "Requirement already satisfied: charset-normalizer<4,>=2 in c:\\users\\ruslan\\anaconda3\\lib\\site-packages (from requests->torch_geometric) (3.3.2)\n",
      "Requirement already satisfied: idna<4,>=2.5 in c:\\users\\ruslan\\anaconda3\\lib\\site-packages (from requests->torch_geometric) (3.7)\n",
      "Requirement already satisfied: urllib3<3,>=1.21.1 in c:\\users\\ruslan\\anaconda3\\lib\\site-packages (from requests->torch_geometric) (2.2.3)\n",
      "Requirement already satisfied: certifi>=2017.4.17 in c:\\users\\ruslan\\anaconda3\\lib\\site-packages (from requests->torch_geometric) (2024.12.14)\n",
      "Requirement already satisfied: colorama in c:\\users\\ruslan\\appdata\\roaming\\python\\python312\\site-packages (from tqdm->torch_geometric) (0.4.6)\n",
      "Downloading torch_geometric-2.6.1-py3-none-any.whl (1.1 MB)\n",
      "   ---------------------------------------- 0.0/1.1 MB ? eta -:--:--\n",
      "   --------- ------------------------------ 0.3/1.1 MB ? eta -:--:--\n",
      "   ---------------------------------------- 1.1/1.1 MB 5.1 MB/s eta 0:00:00\n",
      "Installing collected packages: torch_geometric\n",
      "Successfully installed torch_geometric-2.6.1\n"
     ]
    }
   ],
   "source": [
    "pip install torch_geometric"
   ]
  },
  {
   "cell_type": "code",
   "execution_count": 7,
   "metadata": {},
   "outputs": [
    {
     "name": "stdout",
     "output_type": "stream",
     "text": [
      "Looking in links: https://data.pyg.org/whl/torch-2.5.0+cpu.html\n",
      "Collecting pyg_lib\n",
      "  Downloading https://data.pyg.org/whl/torch-2.5.0%2Bcpu/pyg_lib-0.4.0%2Bpt25cpu-cp312-cp312-win_amd64.whl (724 kB)\n",
      "     ---------------------------------------- 0.0/724.2 kB ? eta -:--:--\n",
      "     ---------------------------------------- 0.0/724.2 kB ? eta -:--:--\n",
      "     ---------------------------------------- 0.0/724.2 kB ? eta -:--:--\n",
      "     -------------- ------------------------- 262.1/724.2 kB ? eta -:--:--\n",
      "     -------------------------------------- 724.2/724.2 kB 1.8 MB/s eta 0:00:00\n",
      "Collecting torch_scatter\n",
      "  Downloading https://data.pyg.org/whl/torch-2.5.0%2Bcpu/torch_scatter-2.1.2%2Bpt25cpu-cp312-cp312-win_amd64.whl (366 kB)\n",
      "Collecting torch_sparse\n",
      "  Downloading https://data.pyg.org/whl/torch-2.5.0%2Bcpu/torch_sparse-0.6.18%2Bpt25cpu-cp312-cp312-win_amd64.whl (802 kB)\n",
      "     ---------------------------------------- 0.0/802.3 kB ? eta -:--:--\n",
      "     ---------------------------------------- 0.0/802.3 kB ? eta -:--:--\n",
      "     ---------------------------------------- 0.0/802.3 kB ? eta -:--:--\n",
      "     ------------- -------------------------- 262.1/802.3 kB ? eta -:--:--\n",
      "     -------------------------------------- 802.3/802.3 kB 2.9 MB/s eta 0:00:00\n",
      "Collecting torch_cluster\n",
      "  Downloading https://data.pyg.org/whl/torch-2.5.0%2Bcpu/torch_cluster-1.6.3%2Bpt25cpu-cp312-cp312-win_amd64.whl (507 kB)\n",
      "Collecting torch_spline_conv\n",
      "  Downloading https://data.pyg.org/whl/torch-2.5.0%2Bcpu/torch_spline_conv-1.2.2%2Bpt25cpu-cp312-cp312-win_amd64.whl (196 kB)\n",
      "Requirement already satisfied: scipy in c:\\users\\ruslan\\anaconda3\\lib\\site-packages (from torch_sparse) (1.13.1)\n",
      "Requirement already satisfied: numpy<2.3,>=1.22.4 in c:\\users\\ruslan\\anaconda3\\lib\\site-packages (from scipy->torch_sparse) (1.26.4)\n",
      "Installing collected packages: torch_spline_conv, torch_scatter, pyg_lib, torch_sparse, torch_cluster\n",
      "Successfully installed pyg_lib-0.4.0+pt25cpu torch_cluster-1.6.3+pt25cpu torch_scatter-2.1.2+pt25cpu torch_sparse-0.6.18+pt25cpu torch_spline_conv-1.2.2+pt25cpu\n",
      "Note: you may need to restart the kernel to use updated packages.\n"
     ]
    }
   ],
   "source": [
    "pip install pyg_lib torch_scatter torch_sparse torch_cluster torch_spline_conv -f https://data.pyg.org/whl/torch-2.5.0+cpu.html"
   ]
  },
  {
   "cell_type": "code",
   "execution_count": 47,
   "metadata": {},
   "outputs": [],
   "source": [
    "import os\n",
    "os.environ[\"KMP_DUPLICATE_LIB_OK\"] = \"TRUE\""
   ]
  },
  {
   "cell_type": "markdown",
   "metadata": {},
   "source": [
    "# Скачиваем датасет и проводим анализ"
   ]
  },
  {
   "cell_type": "markdown",
   "metadata": {},
   "source": [
    "В качестве примера был взят датасет Cora, который представляет собой начную цитатную сеть, где узлы (nodes) - научные работы, рёбра (edges) - это ссылки (цитирования) между статьями, признаки (features) - bag of words из 1433 уникальных слов. Каждая статья принадлежит к одной из 7 тематических категорий (label), необходимо как раз предсказать по BoW какой label у статьи (то есть какая категория)."
   ]
  },
  {
   "cell_type": "code",
   "execution_count": 48,
   "metadata": {},
   "outputs": [],
   "source": [
    "from torch_geometric.datasets import Planetoid\n",
    "\n",
    "dataset = Planetoid(root='/tmp/Cora', name='Cora')"
   ]
  },
  {
   "cell_type": "code",
   "execution_count": 49,
   "metadata": {},
   "outputs": [
    {
     "data": {
      "text/plain": [
       "1"
      ]
     },
     "execution_count": 49,
     "metadata": {},
     "output_type": "execute_result"
    }
   ],
   "source": [
    "len(dataset)"
   ]
  },
  {
   "cell_type": "markdown",
   "metadata": {},
   "source": [
    "Данный датасет содержит только один граф, рассмотрим его "
   ]
  },
  {
   "cell_type": "code",
   "execution_count": 50,
   "metadata": {},
   "outputs": [
    {
     "data": {
      "text/plain": [
       "Data(x=[2708, 1433], edge_index=[2, 10556], y=[2708], train_mask=[2708], val_mask=[2708], test_mask=[2708])"
      ]
     },
     "execution_count": 50,
     "metadata": {},
     "output_type": "execute_result"
    }
   ],
   "source": [
    "data = dataset[0]\n",
    "data"
   ]
  },
  {
   "cell_type": "markdown",
   "metadata": {},
   "source": [
    "`x=[2708, 1433]` представляет собой Node feature matrix, то есть она описывает особенности узлов. Первая величина характеризует общее количество узлов, а вторая величина - количество признаков у одного узла.\n",
    "`edge_index=[2, 10556]` описывает собой рёбра графов в COO формате. В этом формате в первой строке содержатся узлы из которых идёт связь, а под ними, во второй строке, номер узла в который эта связь заходит. Таким образом общее количество связей в данном графе - 10556.\n",
    "`y=[2708]` описывает метку класса этих узлов.\n",
    "`train_mask=[2708], val_mask=[2708], test_mask=[2708]` описывают какие узлы используются для обучения, валидации и теста соответственно. Если их рассмотреть то там будут булевые значения 0/1. Соответственно 0 - данный узел не используется в соотв. маске, 1 - используется. Рассмотрим, в какой пропорции разделены эти данные:"
   ]
  },
  {
   "cell_type": "code",
   "execution_count": 51,
   "metadata": {},
   "outputs": [
    {
     "name": "stdout",
     "output_type": "stream",
     "text": [
      "В train находится 140 образцов;\n",
      "В val находится 500 образцов;\n",
      "В test находится 1000 образцов;\n"
     ]
    }
   ],
   "source": [
    "print(f'В train находится {data.train_mask.sum().item()} образцов;')\n",
    "print(f'В val находится {data.val_mask.sum().item()} образцов;')\n",
    "print(f'В test находится {data.test_mask.sum().item()} образцов;')\n"
   ]
  },
  {
   "cell_type": "markdown",
   "metadata": {},
   "source": [
    "Рассмотрим признаки первой статьи:"
   ]
  },
  {
   "cell_type": "code",
   "execution_count": 52,
   "metadata": {},
   "outputs": [
    {
     "name": "stdout",
     "output_type": "stream",
     "text": [
      "9.0\n"
     ]
    }
   ],
   "source": [
    "print(data.x[0].sum().item()) "
   ]
  },
  {
   "cell_type": "markdown",
   "metadata": {},
   "source": [
    "Всего 9 слов из 1433 были замечены в данной статье."
   ]
  },
  {
   "cell_type": "code",
   "execution_count": 53,
   "metadata": {},
   "outputs": [
    {
     "name": "stdout",
     "output_type": "stream",
     "text": [
      "Количество узлов: 2708\n",
      "Количество связей: 10556\n",
      "Среднее количество связей у одного узла: 3.90\n",
      "Количество узлов для обучения: 140\n",
      "Доля узлов для обучения: 0.05\n",
      "Есть изолированные узлы: False\n",
      "Есть циклы: False\n",
      "Граф направленный: False\n",
      "Граф сжатый: False\n"
     ]
    }
   ],
   "source": [
    "# Соберём небольшу информацию о графе\n",
    "print(f'Количество узлов: {data.num_nodes}')\n",
    "print(f'Количество связей: {data.num_edges}')\n",
    "print(f'Среднее количество связей у одного узла: {data.num_edges / data.num_nodes:.2f}')\n",
    "print(f'Количество узлов для обучения: {data.train_mask.sum()}')\n",
    "print(f'Доля узлов для обучения: {int(data.train_mask.sum()) / data.num_nodes:.2f}')\n",
    "print(f'Есть изолированные узлы: {data.has_isolated_nodes()}')\n",
    "print(f'Есть циклы: {data.has_self_loops()}')\n",
    "print(f'Граф направленный: {data.is_directed()}')\n",
    "print(f'Граф сжатый: {data.is_coalesced()}')"
   ]
  },
  {
   "cell_type": "code",
   "execution_count": 54,
   "metadata": {},
   "outputs": [
    {
     "name": "stdout",
     "output_type": "stream",
     "text": [
      "tensor([[ 633,    0],\n",
      "        [1862,    0],\n",
      "        [2582,    0],\n",
      "        ...,\n",
      "        [ 598, 2707],\n",
      "        [1473, 2707],\n",
      "        [2706, 2707]])\n"
     ]
    }
   ],
   "source": [
    "print(data.edge_index.t())"
   ]
  },
  {
   "cell_type": "markdown",
   "metadata": {},
   "source": [
    "Как видно, ребра описываются парой чисел, где первое характеризует узел из которого идёт ребро, а второе число - узел, в который это ребро заходит. Это и есть COO формат и он часто используется для описания разреженных (sparce) матриц, т.е. таких матриц, где много элементов равны 0."
   ]
  },
  {
   "cell_type": "markdown",
   "metadata": {},
   "source": [
    "Для отображения графа визуаьлно перейдём в формат `networkx` библиотеки:"
   ]
  },
  {
   "cell_type": "code",
   "execution_count": 55,
   "metadata": {},
   "outputs": [
    {
     "name": "stdout",
     "output_type": "stream",
     "text": [
      "Requirement already satisfied: networkx in c:\\users\\ruslan\\anaconda3\\lib\\site-packages (3.3)\n",
      "Note: you may need to restart the kernel to use updated packages.\n"
     ]
    }
   ],
   "source": [
    "pip install networkx"
   ]
  },
  {
   "cell_type": "code",
   "execution_count": 56,
   "metadata": {},
   "outputs": [
    {
     "name": "stdout",
     "output_type": "stream",
     "text": [
      "edges: 10556\n"
     ]
    },
    {
     "data": {
      "image/png": "[encoded data removed]",
      "text/plain": [
       "<Figure size 700x700 with 1 Axes>"
      ]
     },
     "metadata": {},
     "output_type": "display_data"
    }
   ],
   "source": [
    "from torch_geometric.utils import to_networkx\n",
    "import matplotlib.pyplot as plt\n",
    "import networkx as nx\n",
    "\n",
    "G = to_networkx(data, to_undirected=True)\n",
    "G = nx.DiGraph(G)\n",
    "print(f'edges: {G.number_of_edges()}')\n",
    "node_color = data.y.numpy() if hasattr(data.y, 'numpy') else data.y\n",
    "\n",
    "plt.figure(figsize=(7,7))\n",
    "plt.xticks([])\n",
    "plt.yticks([])\n",
    "nx.draw_networkx(G, pos=nx.spring_layout(G, seed=42), with_labels=False,\n",
    "                 node_size = 100, node_color=data.y, cmap='Set2')\n",
    "plt.show()"
   ]
  },
  {
   "cell_type": "markdown",
   "metadata": {},
   "source": [
    "Почему-то не получается никак отобразить рёбра на графе."
   ]
  },
  {
   "cell_type": "markdown",
   "metadata": {},
   "source": [
    "# Создание модели"
   ]
  },
  {
   "cell_type": "markdown",
   "metadata": {},
   "source": [
    "В ходе данной работы используется модель пространственной (spatial) парадигмы, а именно сети с использованием GCN. Данная парадигма основывается на алгоритме передаче сообщений: "
   ]
  },
  {
   "cell_type": "markdown",
   "metadata": {},
   "source": [
    "![message_passing](message_passing.svg)"
   ]
  },
  {
   "cell_type": "code",
   "execution_count": 57,
   "metadata": {},
   "outputs": [
    {
     "name": "stdout",
     "output_type": "stream",
     "text": [
      "GCN(\n",
      "  (conv1): GCNConv(1433, 16)\n",
      "  (conv2): GCNConv(16, 7)\n",
      ")\n"
     ]
    }
   ],
   "source": [
    "import torch\n",
    "import torch.nn.functional as F\n",
    "from torch_geometric.nn import GCNConv\n",
    "\n",
    "class GCN(torch.nn.Module):\n",
    "    def __init__(self):\n",
    "        super().__init__()\n",
    "        self.conv1 = GCNConv(dataset.num_node_features, 16)\n",
    "        self.conv2 = GCNConv(16, dataset.num_classes)\n",
    "\n",
    "    def forward(self, data):\n",
    "        x, edge_index = data.x, data.edge_index\n",
    "\n",
    "        x = self.conv1(x, edge_index)\n",
    "        x = F.relu(x)\n",
    "        x = F.dropout(x, training=self.training)\n",
    "        x = self.conv2(x, edge_index)\n",
    "\n",
    "        return F.log_softmax(x, dim=1)\n",
    "    \n",
    "device = torch.device('cuda' if torch.cuda.is_available() else 'cpu')\n",
    "model = GCN().to(device)\n",
    "print(model)"
   ]
  },
  {
   "cell_type": "code",
   "execution_count": null,
   "metadata": {},
   "outputs": [],
   "source": [
    "data = dataset[0].to(device)\n",
    "optimizer = torch.optim.Adam(model.parameters(), lr=0.01, weight_decay=5e-4)\n",
    "\n",
    "model.train()\n",
    "for epoch in range(200):\n",
    "    optimizer.zero_grad()\n",
    "    out = model(data)\n",
    "    loss = F.nll_loss(out[data.train_mask], data.y[data.train_mask])\n",
    "    loss.backward()\n",
    "    optimizer.step()"
   ]
  },
  {
   "cell_type": "code",
   "execution_count": 38,
   "metadata": {},
   "outputs": [
    {
     "name": "stdout",
     "output_type": "stream",
     "text": [
      "Accuracy: 0.7870\n"
     ]
    }
   ],
   "source": [
    "model.eval()\n",
    "pred = model(data).argmax(dim=1)\n",
    "correct = (pred[data.test_mask] == data.y[data.test_mask]).sum()\n",
    "acc = int(correct) / int(data.test_mask.sum())\n",
    "print(f'Accuracy: {acc:.4f}')"
   ]
  },
  {
   "cell_type": "markdown",
   "metadata": {},
   "source": [
    "Получили точность 78.70 процентов. "
   ]
  },
  {
   "cell_type": "markdown",
   "metadata": {},
   "source": []
  }
 ],
 "metadata": {
  "kernelspec": {
   "display_name": "base",
   "language": "python",
   "name": "python3"
  },
  "language_info": {
   "codemirror_mode": {
    "name": "ipython",
    "version": 3
   },
   "file_extension": ".py",
   "mimetype": "text/x-python",
   "name": "python",
   "nbconvert_exporter": "python",
   "pygments_lexer": "ipython3",
   "version": "3.12.7"
  }
 },
 "nbformat": 4,
 "nbformat_minor": 2
}
